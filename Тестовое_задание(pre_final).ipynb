{
  "nbformat": 4,
  "nbformat_minor": 0,
  "metadata": {
    "colab": {
      "provenance": []
    },
    "kernelspec": {
      "name": "python3",
      "display_name": "Python 3"
    },
    "language_info": {
      "name": "python"
    }
  },
  "cells": [
    {
      "cell_type": "markdown",
      "source": [
        "#1 Чем плохи деструкторы в питоне?"
      ],
      "metadata": {
        "id": "8egLUr38VOKp"
      }
    },
    {
      "cell_type": "markdown",
      "source": [
        "Касательно деструкторов:\n",
        "\n",
        "  1. Деструктор будет работать не корректно в случае круговой ссылки. \n",
        "Что это значит. Это значит, что один класс ссылается на другой, котороый ссылается на первый\n",
        "(пример ниже)"
      ],
      "metadata": {
        "id": "9KnTULa2Vrm-"
      }
    },
    {
      "cell_type": "code",
      "execution_count": 11,
      "metadata": {
        "id": "RvbmX1x_VGjO"
      },
      "outputs": [],
      "source": [
        "class Vehicle():\n",
        "  def __init__(self, id:int, car):\n",
        "    self.id = id\n",
        "    self.manufacturer = car\n",
        "    print(f'Vehicle with id: {self.id} by {self.manufacturer} created!')\n",
        "\n",
        "  def __del__(self):\n",
        "    print(f'Vehicle with id: {self.id} by {self.manufacturer} destroyed!')\n",
        "\n",
        "class Car():\n",
        "  def __init__(self, id):\n",
        "    self.id = id\n",
        "    self.manufacturer = Vehicle(id, self)\n",
        "    print(f'Car with id: {self.id} by {self.manufacturer} created!')\n",
        "\n",
        "  def __del__(self):\n",
        "    print(f'Car with id: {self.id} by {self.manufacturer} destroyed!')"
      ]
    },
    {
      "cell_type": "code",
      "source": [
        "polo = Car(1)\n",
        "del polo\n",
        "#Как можно видеть, экземпляры создались, но не были удалены\n",
        "#И при этом деструктор не был вызван"
      ],
      "metadata": {
        "colab": {
          "base_uri": "https://localhost:8080/"
        },
        "id": "0znyV-CRYnbN",
        "outputId": "344b24a5-adef-427b-d5ab-3b51a8ffc70e"
      },
      "execution_count": 12,
      "outputs": [
        {
          "output_type": "stream",
          "name": "stdout",
          "text": [
            "Vehicle with id: 1 by <__main__.Car object at 0x7f0304698100> created!\n",
            "Car with id: 1 by <__main__.Vehicle object at 0x7f0304698580> created!\n"
          ]
        }
      ]
    },
    {
      "cell_type": "markdown",
      "source": [
        "  2. Деструктор так же не будет работать в том случае, если возникает вызов исключения про сборке экземпляра (в init). То есть, если в конструкторе вызывается обработчик ошибок, то будет вызван метод деструктора. Но на самом деле объект создан не будет (пример ниже)"
      ],
      "metadata": {
        "id": "6Natc8ZDZ4xU"
      }
    },
    {
      "cell_type": "code",
      "source": [
        "class Car():\n",
        "  def __init__(self, speed):\n",
        "    if speed > 320:\n",
        "      raise Exception('Too mach too young too fast!')\n",
        "    else:\n",
        "      print('New car created')\n",
        "\n",
        "  def __del__(self):\n",
        "    print('Cleaning resources')"
      ],
      "metadata": {
        "id": "OxpdF22Ibn2k"
      },
      "execution_count": 13,
      "outputs": []
    },
    {
      "cell_type": "code",
      "source": [
        "octavia = Car(230)# Тут все прошло нормально, так как 230 < 320\n",
        "gt_911 = Car(350)\n",
        "\n",
        "#Ну и да. Оно упало."
      ],
      "metadata": {
        "colab": {
          "base_uri": "https://localhost:8080/",
          "height": 375
        },
        "id": "-Z-NlMs4cLN4",
        "outputId": "9dc7e98c-5931-4c31-c339-4ad83258e0a0"
      },
      "execution_count": 14,
      "outputs": [
        {
          "output_type": "stream",
          "name": "stdout",
          "text": [
            "New car created\n"
          ]
        },
        {
          "output_type": "error",
          "ename": "Exception",
          "evalue": "ignored",
          "traceback": [
            "\u001b[0;31m---------------------------------------------------------------------------\u001b[0m",
            "\u001b[0;31mException\u001b[0m                                 Traceback (most recent call last)",
            "\u001b[0;32m<ipython-input-14-21fed9e76c1d>\u001b[0m in \u001b[0;36m<module>\u001b[0;34m\u001b[0m\n\u001b[1;32m      1\u001b[0m \u001b[0moctavia\u001b[0m \u001b[0;34m=\u001b[0m \u001b[0mCar\u001b[0m\u001b[0;34m(\u001b[0m\u001b[0;36m230\u001b[0m\u001b[0;34m)\u001b[0m\u001b[0;31m# Тут все прошло нормально, так как 230 < 320\u001b[0m\u001b[0;34m\u001b[0m\u001b[0;34m\u001b[0m\u001b[0m\n\u001b[0;32m----> 2\u001b[0;31m \u001b[0mgt_911\u001b[0m \u001b[0;34m=\u001b[0m \u001b[0mCar\u001b[0m\u001b[0;34m(\u001b[0m\u001b[0;36m350\u001b[0m\u001b[0;34m)\u001b[0m\u001b[0;34m\u001b[0m\u001b[0;34m\u001b[0m\u001b[0m\n\u001b[0m\u001b[1;32m      3\u001b[0m \u001b[0;34m\u001b[0m\u001b[0m\n\u001b[1;32m      4\u001b[0m \u001b[0;31m#Ну и да. Оно упало.\u001b[0m\u001b[0;34m\u001b[0m\u001b[0;34m\u001b[0m\u001b[0;34m\u001b[0m\u001b[0m\n",
            "\u001b[0;32m<ipython-input-13-9f437725aee5>\u001b[0m in \u001b[0;36m__init__\u001b[0;34m(self, speed)\u001b[0m\n\u001b[1;32m      2\u001b[0m   \u001b[0;32mdef\u001b[0m \u001b[0m__init__\u001b[0m\u001b[0;34m(\u001b[0m\u001b[0mself\u001b[0m\u001b[0;34m,\u001b[0m \u001b[0mspeed\u001b[0m\u001b[0;34m)\u001b[0m\u001b[0;34m:\u001b[0m\u001b[0;34m\u001b[0m\u001b[0;34m\u001b[0m\u001b[0m\n\u001b[1;32m      3\u001b[0m     \u001b[0;32mif\u001b[0m \u001b[0mspeed\u001b[0m \u001b[0;34m>\u001b[0m \u001b[0;36m320\u001b[0m\u001b[0;34m:\u001b[0m\u001b[0;34m\u001b[0m\u001b[0;34m\u001b[0m\u001b[0m\n\u001b[0;32m----> 4\u001b[0;31m       \u001b[0;32mraise\u001b[0m \u001b[0mException\u001b[0m\u001b[0;34m(\u001b[0m\u001b[0;34m'Too mach too young too fast!'\u001b[0m\u001b[0;34m)\u001b[0m\u001b[0;34m\u001b[0m\u001b[0;34m\u001b[0m\u001b[0m\n\u001b[0m\u001b[1;32m      5\u001b[0m     \u001b[0;32melse\u001b[0m\u001b[0;34m:\u001b[0m\u001b[0;34m\u001b[0m\u001b[0;34m\u001b[0m\u001b[0m\n\u001b[1;32m      6\u001b[0m       \u001b[0mprint\u001b[0m\u001b[0;34m(\u001b[0m\u001b[0;34m'New car created'\u001b[0m\u001b[0;34m)\u001b[0m\u001b[0;34m\u001b[0m\u001b[0;34m\u001b[0m\u001b[0m\n",
            "\u001b[0;31mException\u001b[0m: Too mach too young too fast!"
          ]
        }
      ]
    },
    {
      "cell_type": "markdown",
      "source": [
        "#2. Почему может быть плох import в начале файла?"
      ],
      "metadata": {
        "id": "iL7hrOJ5gUPk"
      }
    },
    {
      "cell_type": "markdown",
      "source": [
        "Вспоминая, что в python существует такая штука как PEP8, согласно которой импорты нужно располагать в начале файла. Чем может быть плох import в начале файла...ну на ум приходит пока что только условные импорты.\n",
        "К примеру, если у нас есть причниы, по которой одна из версий модуля не работает в определенной операционной системе, или версии самого python. Так вот, можно выполнять импорты в зависимости от выполнения условий (пример ниже)"
      ],
      "metadata": {
        "id": "v3JaKLaggwx1"
      }
    },
    {
      "cell_type": "code",
      "source": [
        "#Пример простой, но для демонстрации сойдет.\n",
        "\n",
        "purpose = str(input(\"Выберите visualisation или calculating: \"))\n",
        "\n",
        "purpose_list = ['visualisation', 'calculating']\n",
        "\n",
        "if purpose in purpose_list:\n",
        "  if purpose == purpose_list[0]:\n",
        "    import pandas as module\n",
        "    print('Импортирован модуль визуализации')\n",
        "  if purpose == purpose_list[1]:\n",
        "    import numpy as module\n",
        "    print('Импортирован модуль для вычислений')\n"
      ],
      "metadata": {
        "colab": {
          "base_uri": "https://localhost:8080/"
        },
        "id": "2WkfyZFdgZYH",
        "outputId": "418fd544-91e4-4edc-9893-8a0e4f1f3bfa"
      },
      "execution_count": 15,
      "outputs": [
        {
          "output_type": "stream",
          "name": "stdout",
          "text": [
            "Выберите visualisation или calculating: calculating\n",
            "Импортирован модуль для вычислений\n"
          ]
        }
      ]
    },
    {
      "cell_type": "code",
      "source": [
        "%pip freeze -> requriments.txt"
      ],
      "metadata": {
        "id": "38_kIWb4vLGE"
      },
      "execution_count": 16,
      "outputs": []
    },
    {
      "cell_type": "code",
      "source": [
        "with open('requriments.txt', 'r', encoding='UTF-8')as f:\n",
        "  f = f.read()\n",
        "  if purpose == purpose_list[0]:\n",
        "    print('pandas' in f)\n",
        "  if purpose == purpose_list[1]:\n",
        "    print('numpy' in f)\n",
        "#Вывод будет true в любом случае, если использовать google colab, так как в нем все модули уже установлены..."
      ],
      "metadata": {
        "colab": {
          "base_uri": "https://localhost:8080/"
        },
        "id": "j6NVYSJXvV8X",
        "outputId": "4813304e-7fc4-488a-e6a7-16202333a326"
      },
      "execution_count": 17,
      "outputs": [
        {
          "output_type": "stream",
          "name": "stdout",
          "text": [
            "True\n"
          ]
        }
      ]
    },
    {
      "cell_type": "markdown",
      "source": [
        "#3. Как в питоне «вывалиться» из любой вложенности или рекурсии по аналогу «goto:»?"
      ],
      "metadata": {
        "id": "yAxdYNJfZT1r"
      }
    },
    {
      "cell_type": "markdown",
      "source": [
        "В питоне нет привычного или прямого аналога goto:, но есть условные операторы, такие как if, elif, else. Также есть методы break и continue. If else - понятно, если что-то то делаем что-то, если нет, то иначе. elif - это альтернатива if. То есть, если if условие не выполнилось, будет проверяться условие elif'а. \n"
      ],
      "metadata": {
        "id": "QoqfDbfLZXSN"
      }
    },
    {
      "cell_type": "markdown",
      "source": [
        "С break и continue все тоже блоее менее ясно из названия. Первый прервет выполнение цикла или функции, вотрой продолжит, если условие выполнилось."
      ],
      "metadata": {
        "id": "CtPATV2taIJi"
      }
    },
    {
      "cell_type": "markdown",
      "source": [
        "Также можно использовать механизм флагов. Объямить преременную, в которой задать определенное значение (чаще всего True или False), а затем добавить к условию проверку флага. Как только необходимое условие будет выполнено, то заменяем значение флага на противоположное или на то, которе не пройдет условие проверки."
      ],
      "metadata": {
        "id": "WknYvabxwHYq"
      }
    },
    {
      "cell_type": "code",
      "source": [
        "def factorial_recursive(n):\n",
        "    if n == 1:\n",
        "        return n\n",
        "    elif n > 10:\n",
        "        return n*factorial_recursive(n-1)\n",
        "    else: return n + 1\n",
        "\n",
        "factorial_recursive(8)"
      ],
      "metadata": {
        "colab": {
          "base_uri": "https://localhost:8080/"
        },
        "id": "-TA8v4QqhZ9L",
        "outputId": "2a013e71-5549-4c1c-d64c-1b447b783b3b"
      },
      "execution_count": 18,
      "outputs": [
        {
          "output_type": "execute_result",
          "data": {
            "text/plain": [
              "9"
            ]
          },
          "metadata": {},
          "execution_count": 18
        }
      ]
    },
    {
      "cell_type": "markdown",
      "source": [
        "#4.  Сервер отдает сообщение один раз (1кб, бинарь). Его необходимо сохранить в базе, нельзя потерять(!). Как бы вы решали такую задачу?"
      ],
      "metadata": {
        "id": "Rl62itmksKc8"
      }
    },
    {
      "cell_type": "markdown",
      "source": [
        "Для данной задачи вариантов решения много, так как не достаточно данных. \n",
        "\n",
        "Почему сообщение можно потерять в данной ситуации?\n",
        "- Сообщение было пропущено обработчиком\n",
        "- При синхронной передаче сообщения в бд, база перестала отвечать из-за большой нагрузки\n",
        "- При обращении к базе данных, сервер на котором она располагается, был отключен\n",
        "- Файл с базой данных на локальном хосте был перемещен в другое место\n",
        "- Программа для отлова сообщение может выдать ошибку до того как сообщение будет записано\n",
        "- Запрос в базу на добавление сообщения может быть долгим и за это время может прийти другое сообщение.\n",
        "\n",
        "Как бы это решить? Сейчас подумаем.\n",
        "- Стоит разграничить функции. Одна функция будет принимать сообщения, вторая производить запись, третья будет проверять наличие сообщения и на всякий случай делать запись в плозкий файл и очищать его от уже записанных сообщений, а четвертая будет проверять доступность хранилища для записи.\n",
        "\n",
        "- Также использовать синхронную передачу в базу не лучшая идея, так как при большой частоте сообщений и медленной базе, мы точно будем терять сообщения. Лучше использовать асинхронную передачу, либо ORM транзакции. А если есть возможность, то вообще сессии из модуля SQLAlchemy. Они работают как транзакции, но открываются перед записью в бд, а также гарантируют, что записи будут сохранены в бд в единственном экземпляре\n",
        "\n",
        "- Можно хранить сообщения в небольшом локальном хранилище, откуда их можно будет передавать в основную базу.\n",
        "\n",
        "- Также стоит использовать многопоточность, чтобы не создавать проблемы при большом наплыве сообщений, если таковы будут.\n",
        "\n",
        "\n",
        "*Если будет нужно, выше описанное раскидать по потокам, чтобы увеличить скорость и при множественных запросах это не создаст очередь.\n"
      ],
      "metadata": {
        "id": "HzhYDEzuZQl8"
      }
    },
    {
      "cell_type": "markdown",
      "source": [
        "#5. Есть хранилище данных, которое обновляется раз в сутки, SQL или ElasticSearch (можно не знать про ES). Пользователь работает с хранилищем. Запрос выполнялся 30+ секунд. Результат корректный. Но этот же запрос может быть повторен другим пользователем. Как ускорить получение ответов от хранилища?"
      ],
      "metadata": {
        "id": "yuwz396Tv3_1"
      }
    },
    {
      "cell_type": "markdown",
      "source": [
        "Для оптимизации запросов в базу данных часто применяют разные методы оптимизации\n",
        "- Механизм кэширования. Этот механизм можно использовать как для кэширования результатов запросов, так и для создания зеркал базы данных (но тогда нужно будет учитывать множество нюансов, которые возникнут при данном подходе). Но при использовании кэширования нужно учитывать, что должна существовать политика обновления этого самого кэша. \n",
        "\n",
        "- Индексация запросов. Этот механизм позволяет базе данных не проходить по каждой таблице и каждой строке в поиске нужного результата, а переходить сразу к нужному месту, откуда и начинается выполнение запроса. Это позволит сократить время множества запросов, даже вложенных.\n",
        "\n",
        "- Использование ORM сессий. Сессия в ORM SQLAlchemy это инструмент, который работает схожим образом с транзакциями, но открывает их непосредственно перед записью в бд. Также это позволяет ускорить запросы в некоторых случаях. В том числе сессии позволяют поддерживать корректные и актуальные данные, так как есть использование механизма кэширования. Разве что с политикой обновления нужно разобраться, так как она прописана изначально одна, а нам может потребоваться её изменить.\n",
        "\n",
        "Подводя итоги, хочу отметить, что для каждой ситуации существует свое решение. Универсального решения всех проблем не существует, но три примера приведенные выше используются достаточно часто, а значит, доверие к этим методам есть."
      ],
      "metadata": {
        "id": "V0ZkbKY6Wpan"
      }
    },
    {
      "cell_type": "markdown",
      "source": [
        "# Вопрос по SQL"
      ],
      "metadata": {
        "id": "vxtQcGuJrNQ7"
      }
    },
    {
      "cell_type": "markdown",
      "source": [
        "В чем может быть отличие использование LIKEот MATCH… AGAINST?\n",
        "\n",
        "Например в запросах\n",
        "\n",
        " \n",
        "\n",
        "SELECT * FROM cache WHERE content like ('%future%' and '%trends%')\n",
        "\n",
        " \n",
        "\n",
        "И\n",
        "\n",
        " \n",
        "\n",
        "SELECT *  FROM cache WHERE  MATCH (content) AGAINST ( '+future +trends' IN BOOLEAN MODE)"
      ],
      "metadata": {
        "id": "a1sLiG7PrRVd"
      }
    },
    {
      "cell_type": "markdown",
      "source": [
        "Оператор LIKE используется для посика данных столбца, которые соответствуют шаблону. То есть этот оператор работает как регулярные выражения, которые ищут подходящие по шаблону данные\n",
        "\n",
        "В приведенном запросе идет поиск вех значений которые имеют \"future\" и \"trends\"\n",
        "\n",
        "Что по поводу MATCH-AGAINST. С ним ранее не сталкивался, но как я понял из информации в сети - он ищет конкретные слова и производит их сортировку по релевантности. Что касательно режима BOOLEAN - в этом режиме можно указывать логические операторы. Так же в этом режиме нет автоматической сортировки"
      ],
      "metadata": {
        "id": "TyIxvJbIrU0X"
      }
    }
  ]
}