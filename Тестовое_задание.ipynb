{
  "nbformat": 4,
  "nbformat_minor": 0,
  "metadata": {
    "colab": {
      "provenance": []
    },
    "kernelspec": {
      "name": "python3",
      "display_name": "Python 3"
    },
    "language_info": {
      "name": "python"
    }
  },
  "cells": [
    {
      "cell_type": "markdown",
      "source": [
        "#1 Чем плохи деструкторы в питоне?"
      ],
      "metadata": {
        "id": "8egLUr38VOKp"
      }
    },
    {
      "cell_type": "markdown",
      "source": [
        "Касательно деструкторов:\n",
        "\n",
        "  1. Деструктор будет работать не корректно в случае круговой ссылки. \n",
        "Что это значит. Это значит, что один класс ссылается на другой, котороый ссылается на первый\n",
        "(пример ниже)"
      ],
      "metadata": {
        "id": "9KnTULa2Vrm-"
      }
    },
    {
      "cell_type": "code",
      "execution_count": 1,
      "metadata": {
        "id": "RvbmX1x_VGjO"
      },
      "outputs": [],
      "source": [
        "class Vehicle():\n",
        "  def __init__(self, id:int, car):\n",
        "    self.id = id\n",
        "    self.manufacturer = car\n",
        "    print(f'Vehicle with id: {self.id} by {self.manufacturer} created!')\n",
        "\n",
        "  def __del__(self):\n",
        "    print(f'Vehicle with id: {self.id} by {self.manufacturer} destroyed!')\n",
        "\n",
        "class Car():\n",
        "  def __init__(self, id):\n",
        "    self.id = id\n",
        "    self.manufacturer = Vehicle(id, self)\n",
        "    print(f'Car with id: {self.id} by {self.manufacturer} created!')\n",
        "\n",
        "  def __del__(self):\n",
        "    print(f'Car with id: {self.id} by {self.manufacturer} destroyed!')"
      ]
    },
    {
      "cell_type": "code",
      "source": [
        "polo = Car(1)\n",
        "del polo\n",
        "#Как можно видеть, экземпляры создались, но не были удалены\n",
        "#И при этом деструктор не был вызван"
      ],
      "metadata": {
        "colab": {
          "base_uri": "https://localhost:8080/"
        },
        "id": "0znyV-CRYnbN",
        "outputId": "53995c0f-372c-490e-8f45-fb4afbc74477"
      },
      "execution_count": null,
      "outputs": [
        {
          "output_type": "stream",
          "name": "stdout",
          "text": [
            "Vehicle with id: 1 by <__main__.Car object at 0x7f76ca3a52b0> created!\n",
            "Car with id: 1 by <__main__.Vehicle object at 0x7f76ca3a5550> created!\n"
          ]
        }
      ]
    },
    {
      "cell_type": "markdown",
      "source": [
        "  2. Деструктор так же не будет работать в том случае, если возникает вызов исключения про сборке экземпляра (в init). То есть, если в конструкторе вызывается обработчик ошибок, то будет вызван метод деструктора. Но на самом деле объект создан не будет (пример ниже)"
      ],
      "metadata": {
        "id": "6Natc8ZDZ4xU"
      }
    },
    {
      "cell_type": "code",
      "source": [
        "class Car():\n",
        "  def __init__(self, speed):\n",
        "    if speed > 320:\n",
        "      raise Exception('Too mach too young too fast!')\n",
        "    else:\n",
        "      print('New car created')\n",
        "\n",
        "  def __del__(self):\n",
        "    print('Cleaning resources')"
      ],
      "metadata": {
        "id": "OxpdF22Ibn2k"
      },
      "execution_count": null,
      "outputs": []
    },
    {
      "cell_type": "code",
      "source": [
        "octavia = Car(230)# Тут все прошло нормально, так как 230 < 320\n",
        "gt_911 = Car(350)\n",
        "\n",
        "#Ну и да. Оно упало. А, и "
      ],
      "metadata": {
        "colab": {
          "base_uri": "https://localhost:8080/",
          "height": 375
        },
        "id": "-Z-NlMs4cLN4",
        "outputId": "94418440-742c-448c-d861-c3ec600709ad"
      },
      "execution_count": null,
      "outputs": [
        {
          "output_type": "stream",
          "name": "stdout",
          "text": [
            "New car created\n"
          ]
        },
        {
          "output_type": "error",
          "ename": "Exception",
          "evalue": "ignored",
          "traceback": [
            "\u001b[0;31m---------------------------------------------------------------------------\u001b[0m",
            "\u001b[0;31mException\u001b[0m                                 Traceback (most recent call last)",
            "\u001b[0;32m<ipython-input-12-6599e779b1c8>\u001b[0m in \u001b[0;36m<module>\u001b[0;34m\u001b[0m\n\u001b[1;32m      1\u001b[0m \u001b[0moctavia\u001b[0m \u001b[0;34m=\u001b[0m \u001b[0mCar\u001b[0m\u001b[0;34m(\u001b[0m\u001b[0;36m230\u001b[0m\u001b[0;34m)\u001b[0m\u001b[0;34m\u001b[0m\u001b[0;34m\u001b[0m\u001b[0m\n\u001b[0;32m----> 2\u001b[0;31m \u001b[0mgt_911\u001b[0m \u001b[0;34m=\u001b[0m \u001b[0mCar\u001b[0m\u001b[0;34m(\u001b[0m\u001b[0;36m350\u001b[0m\u001b[0;34m)\u001b[0m\u001b[0;34m\u001b[0m\u001b[0;34m\u001b[0m\u001b[0m\n\u001b[0m\u001b[1;32m      3\u001b[0m \u001b[0;34m\u001b[0m\u001b[0m\n\u001b[1;32m      4\u001b[0m \u001b[0;31m#Ну и да. Оно упало. А, и\u001b[0m\u001b[0;34m\u001b[0m\u001b[0;34m\u001b[0m\u001b[0;34m\u001b[0m\u001b[0m\n",
            "\u001b[0;32m<ipython-input-11-9f437725aee5>\u001b[0m in \u001b[0;36m__init__\u001b[0;34m(self, speed)\u001b[0m\n\u001b[1;32m      2\u001b[0m   \u001b[0;32mdef\u001b[0m \u001b[0m__init__\u001b[0m\u001b[0;34m(\u001b[0m\u001b[0mself\u001b[0m\u001b[0;34m,\u001b[0m \u001b[0mspeed\u001b[0m\u001b[0;34m)\u001b[0m\u001b[0;34m:\u001b[0m\u001b[0;34m\u001b[0m\u001b[0;34m\u001b[0m\u001b[0m\n\u001b[1;32m      3\u001b[0m     \u001b[0;32mif\u001b[0m \u001b[0mspeed\u001b[0m \u001b[0;34m>\u001b[0m \u001b[0;36m320\u001b[0m\u001b[0;34m:\u001b[0m\u001b[0;34m\u001b[0m\u001b[0;34m\u001b[0m\u001b[0m\n\u001b[0;32m----> 4\u001b[0;31m       \u001b[0;32mraise\u001b[0m \u001b[0mException\u001b[0m\u001b[0;34m(\u001b[0m\u001b[0;34m'Too mach too young too fast!'\u001b[0m\u001b[0;34m)\u001b[0m\u001b[0;34m\u001b[0m\u001b[0;34m\u001b[0m\u001b[0m\n\u001b[0m\u001b[1;32m      5\u001b[0m     \u001b[0;32melse\u001b[0m\u001b[0;34m:\u001b[0m\u001b[0;34m\u001b[0m\u001b[0;34m\u001b[0m\u001b[0m\n\u001b[1;32m      6\u001b[0m       \u001b[0mprint\u001b[0m\u001b[0;34m(\u001b[0m\u001b[0;34m'New car created'\u001b[0m\u001b[0;34m)\u001b[0m\u001b[0;34m\u001b[0m\u001b[0;34m\u001b[0m\u001b[0m\n",
            "\u001b[0;31mException\u001b[0m: Too mach too young too fast!"
          ]
        }
      ]
    },
    {
      "cell_type": "markdown",
      "source": [
        "#2. Почему может быть плох import в начале файла?"
      ],
      "metadata": {
        "id": "iL7hrOJ5gUPk"
      }
    },
    {
      "cell_type": "markdown",
      "source": [
        "Вспоминая, что в python существует такая штука как PEP8, согласно которой импорты нужно располагать в начале файла. Чем может быть плох import в начале файла...ну на ум риходит пока что только условные импорты.\n",
        "К примеру, если у нас есть причниы, по которой одна из версий модуля не работает в определенной операционной системе, или версии самого python. Так вот, можно выполнять импорты в зависимости от выполнения условий (пример ниже)"
      ],
      "metadata": {
        "id": "v3JaKLaggwx1"
      }
    },
    {
      "cell_type": "code",
      "source": [
        "#Пример простой, но для демонстрации сойдет.\n",
        "\n",
        "purpose = str(input())\n",
        "\n",
        "purpose_list = ['visualisation', 'calculating']\n",
        "\n",
        "if purpose in purpose_list:\n",
        "  if purpose == purpose_list[0]:\n",
        "    import pandas as module\n",
        "    print('Импортирован модуль визуализации')\n",
        "  if purpose == purpose_list[1]:\n",
        "    import numpy as module\n",
        "    print('Импортирован модуль для вычислений')\n"
      ],
      "metadata": {
        "colab": {
          "base_uri": "https://localhost:8080/"
        },
        "id": "2WkfyZFdgZYH",
        "outputId": "485d755f-2239-4f9d-96cf-427af30883f3"
      },
      "execution_count": null,
      "outputs": [
        {
          "output_type": "stream",
          "name": "stdout",
          "text": [
            "visualisation\n",
            "Импортирован модуль визуализации\n"
          ]
        }
      ]
    },
    {
      "cell_type": "code",
      "source": [
        "%pip freeze -> requriments.txt"
      ],
      "metadata": {
        "id": "38_kIWb4vLGE"
      },
      "execution_count": null,
      "outputs": []
    },
    {
      "cell_type": "code",
      "source": [
        "with open('requriments.txt', 'r', encoding='UTF-8')as f:\n",
        "  f = f.read()\n",
        "  if purpose == purpose_list[0]:\n",
        "    print('pandas' in f)\n",
        "  if purpose == purpose_list[1]:\n",
        "    print('numpy' in f)\n",
        "#Вывод будет true в любом случае, если использовать google colab, так как в нем все модули уже установлены..."
      ],
      "metadata": {
        "colab": {
          "base_uri": "https://localhost:8080/"
        },
        "id": "j6NVYSJXvV8X",
        "outputId": "2a991897-4a16-4755-d30a-06a3aa006845"
      },
      "execution_count": null,
      "outputs": [
        {
          "output_type": "stream",
          "name": "stdout",
          "text": [
            "True\n"
          ]
        }
      ]
    },
    {
      "cell_type": "markdown",
      "source": [
        "#3. Как в питоне «вывалиться» из любой вложенности или рекурсии по аналогу «goto:»?"
      ],
      "metadata": {
        "id": "yAxdYNJfZT1r"
      }
    },
    {
      "cell_type": "markdown",
      "source": [
        "В питоне нет привычного или прямого аналога goto:, но есть условные операторы, такие как if, elif, else. Также есть методы break и continue. If else - понятно, если что-то то делаем что-то, если нет, то иначе. elif - это альтернатива if. То есть, если if условие не выполнилось, будет проверяться условие elif'а. \n"
      ],
      "metadata": {
        "id": "QoqfDbfLZXSN"
      }
    },
    {
      "cell_type": "markdown",
      "source": [
        "С break и continue все тоже блоее менее ясно из названия. Первый прервет выполнение цикла или функции, вотрой продолжит, если условие выполнилось."
      ],
      "metadata": {
        "id": "CtPATV2taIJi"
      }
    },
    {
      "cell_type": "markdown",
      "source": [
        "Также можно использовать механизм флагов. Объямить преременную, в которой задать определенное значение (чаще всего True или False), а затем добавить к условию проверку флага. Как только необходимое условие будет выполнено, то заменяем значение флага на противоположное или на то, которе не пройдет условие проверки."
      ],
      "metadata": {
        "id": "WknYvabxwHYq"
      }
    },
    {
      "cell_type": "code",
      "source": [
        "def factorial_recursive(n):\n",
        "    if n == 1:\n",
        "        return n\n",
        "    elif n > 10:\n",
        "        return n*factorial_recursive(n-1)\n",
        "    else: return n + 1\n",
        "\n",
        "factorial_recursive(8)"
      ],
      "metadata": {
        "colab": {
          "base_uri": "https://localhost:8080/"
        },
        "id": "-TA8v4QqhZ9L",
        "outputId": "def54aaf-7568-48aa-bf33-33f9f92de088"
      },
      "execution_count": null,
      "outputs": [
        {
          "output_type": "execute_result",
          "data": {
            "text/plain": [
              "9"
            ]
          },
          "metadata": {},
          "execution_count": 22
        }
      ]
    },
    {
      "cell_type": "markdown",
      "source": [
        "#4.  Сервер отдает сообщение один раз (1кб, бинарь). Его необходимо сохранить в базе, нельзя потерять(!). Как бы вы решали такую задачу?"
      ],
      "metadata": {
        "id": "Rl62itmksKc8"
      }
    },
    {
      "cell_type": "markdown",
      "source": [
        "Если я парвильно понял, то задача состоит в том, чтобы удостовериться, что сообщение сохранено. Во всяком случае бубу отталкиваться от этого\n",
        "\n",
        "Начнем не совсем с очевидного. В первую очередь создадим две переменные тип str с пустой строкой(''). Далее запишем сообщение в одну из переменных и проверим, совпадают ли они. Если нет, то передадим сообщение и этой переменной, параллельно запишем время и дату системы. Далее нам нужно записать переменную в файл с расширением .bin (это же бинарник). В качестве названия передадим следующее f'Server_resp {переменная для храрнения времени}.bin'. Так можно будет отселдить время получения сообщения. Далее нам нужно будет передать это сообщение в бд. НО предварительно убедимся, что записали файл правильно. Для этого прочитаем его содержимое и сверим со значением переменной, в которой оно хранилось. Если они схожи, значит в случае чего обратимся к файлу. У нас есть два пути:\n",
        "\n",
        "1. Проверить, доступна ли бд в данный момент времени или нет. Если да, то записать в нее сообщение, а затем проверить появилось ли оно в базе. Если нет, то проверять доступнось и если база доступна, то записываем еще раз и так покругу, пока не запишеться. (В случае перезапуска программы у нас остается файл, так что можем подтянуть сообщение оттуда.)\n",
        "\n",
        "2. Использовать ORM SQLAlchmy.Session. В чем суть. Это транзакция, которая открывается только перед записью в бд, а значит держать её открытой все это время не нужно. Также используя сессии гарантируется, что объекты, загруженные в базу данных будут присутствовать в одном экземпляре. И не стоит забывать, что использование сессий в некоторых случаях может ускорить выполнение запросов. +, тут не уверен, так как сессиями пользовался мало, использование данного инструмента гарантирует запись в бд, если она доступна"
      ],
      "metadata": {
        "id": "CwtfAsgJsOAP"
      }
    },
    {
      "cell_type": "markdown",
      "source": [],
      "metadata": {
        "id": "yuwz396Tv3_1"
      }
    }
  ]
}